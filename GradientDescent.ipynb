{
  "nbformat": 4,
  "nbformat_minor": 0,
  "metadata": {
    "colab": {
      "provenance": [],
      "include_colab_link": true
    },
    "kernelspec": {
      "display_name": "Python 3",
      "language": "python",
      "name": "python3"
    }
  },
  "cells": [
    {
      "cell_type": "markdown",
      "metadata": {
        "id": "view-in-github",
        "colab_type": "text"
      },
      "source": [
        "<a href=\"https://colab.research.google.com/github/rajlohith2/portfolio/blob/master/GradientDescent.ipynb\" target=\"_parent\"><img src=\"https://colab.research.google.com/assets/colab-badge.svg\" alt=\"Open In Colab\"/></a>"
      ]
    },
    {
      "cell_type": "markdown",
      "source": [
        "## **Gradient Descent illustration**"
      ],
      "metadata": {
        "id": "hJGTwUzVg3cv"
      }
    },
    {
      "cell_type": "code",
      "metadata": {
        "id": "1WbzJM4cYp1I"
      },
      "source": [
        "#1 Code to read csv file into colaboratory:\n",
        "!pip install -U -q PyDrive\n",
        "from pydrive.auth import GoogleAuth\n",
        "from pydrive.drive import GoogleDrive\n",
        "from google.colab import auth\n",
        "from oauth2client.client import GoogleCredentials\n",
        "\n",
        "# 1. Authenticate and create the PyDrive client.\n",
        "auth.authenticate_user()\n",
        "gauth = GoogleAuth()\n",
        "gauth.credentials = GoogleCredentials.get_application_default()\n",
        "drive = GoogleDrive(gauth)"
      ],
      "execution_count": null,
      "outputs": []
    },
    {
      "cell_type": "code",
      "metadata": {
        "id": "ubjxW9IrYrMG"
      },
      "source": [
        "#2. Get the file\n",
        "#make sure you upload all your data files to your Google drive and change share->Advanced->change->anyone with the link can view\n",
        "downloaded = drive.CreateFile({'id':'1BKe_Wsc5t0t--bI8vRw2EmIGcIVlnXg0'}) # replace the id with id of file you want to access\n",
        "downloaded.GetContentFile('mammals.txt')"
      ],
      "execution_count": null,
      "outputs": []
    },
    {
      "cell_type": "code",
      "source": [
        "# %% Imports\n",
        "import numpy as np\n",
        "from numpy import pi, sin, cos\n",
        "\n",
        "import matplotlib.pyplot as plt\n",
        "from scipy.integrate import solve_ivp"
      ],
      "metadata": {
        "id": "iaYiccC9tbiG"
      },
      "execution_count": null,
      "outputs": []
    },
    {
      "cell_type": "code",
      "source": [
        "# %% Define derivative function\n",
        "def f(t, y, ep):\n",
        "    yhat= y[0] *t + y[1] # yhat = a*x +b\n",
        "    y = 2*t + 4 # y: label, x: feature\n",
        "    e= yhat- y\n",
        "    djda = e * t\n",
        "    djdb = e \n",
        "    dydt = [- ep * djda, - ep * djdb]\n",
        "    return dydt"
      ],
      "metadata": {
        "id": "wX9sx4pctfU6"
      },
      "execution_count": null,
      "outputs": []
    },
    {
      "cell_type": "code",
      "source": [
        "# %% Define time spans, initial values, and constants\n",
        "tspan = np.linspace(0, 10, 1000) # create 1000 points from x =0 to x=10\n",
        "yinit = [3, 6]# initial value(guess) of (a,b)\n",
        "\n",
        "ep = 0.5 #the learning rate\n",
        "\n",
        "# %% Solve differential equation\n",
        "sol = solve_ivp(lambda t, y: f(t, y, ep), \n",
        "                [tspan[0], tspan[-1]], yinit, t_eval=tspan, rtol = 1e-5)"
      ],
      "metadata": {
        "id": "QvdHDKgWtiym"
      },
      "execution_count": null,
      "outputs": []
    },
    {
      "cell_type": "code",
      "source": [
        "for i in range(sol.y.shape[0]):\n",
        "    plt.plot(sol.t, sol.y[i], label=f'$X_{i}(t)$')\n",
        "plt.xlabel('$t$') # the horizontal axis represents the time \n",
        "plt.legend() # show how the colors correspond to the components of X\n",
        "plt.show()"
      ],
      "metadata": {
        "colab": {
          "base_uri": "https://localhost:8080/",
          "height": 281
        },
        "id": "emDXiyuyuuqf",
        "outputId": "eadbec8a-73d5-4e48-954f-1a45a2b6398a"
      },
      "execution_count": null,
      "outputs": [
        {
          "output_type": "display_data",
          "data": {
            "text/plain": [
              "<Figure size 432x288 with 1 Axes>"
            ],
            "image/png": "[encoded data removed]"
          },
          "metadata": {
            "needs_background": "light"
          }
        }
      ]
    },
    {
      "cell_type": "markdown",
      "source": [
        "## Hands-on practice##"
      ],
      "metadata": {
        "id": "fUNe54fBIy9t"
      }
    },
    {
      "cell_type": "markdown",
      "source": [
        "### Modify the code above to simulate how gradient descent can be used to train a second order model $(ax^2 + bx + c)$ to follow a feature(x), label(y) pair generated out of $(50x^2 + 30x + 20)$\n"
      ],
      "metadata": {
        "id": "b-Vy_9GSI7rN"
      }
    },
    {
      "cell_type": "markdown",
      "source": [
        "1. Try initial condtions for (a, b, c) close to (50, 30, 20) and observe if \n",
        "\n",
        "*   List item\n",
        "*   List item\n",
        "\n",
        "(a, b, c) would converge accordinlgy.\n",
        "2. Try initial condtions for (a, b, c) far from (50, 30, 20) and observe if (a, b, c) would converge accordinlgy.\n",
        "3. Vary the learning rate, i.e., ep, and see it affects the convergence"
      ],
      "metadata": {
        "id": "G3eYzVfcKDjF"
      }
    }
  ]
}